{
 "cells": [
  {
   "cell_type": "markdown",
   "metadata": {},
   "source": [
    "# while loop"
   ]
  },
  {
   "cell_type": "code",
   "execution_count": 1,
   "metadata": {},
   "outputs": [
    {
     "name": "stdout",
     "output_type": "stream",
     "text": [
      "Data Science! 1\n",
      "Data Science! 2\n",
      "Data Science! 3\n",
      "Data Science! 4\n",
      "Data Science! 5\n",
      "Data Science! 6\n"
     ]
    }
   ],
   "source": [
    "count=0\n",
    "while(count<6):\n",
    "    count=count+1 #count+=1\n",
    "    print('Data Science!',count)"
   ]
  },
  {
   "cell_type": "code",
   "execution_count": 2,
   "metadata": {},
   "outputs": [
    {
     "name": "stdout",
     "output_type": "stream",
     "text": [
      "p 0\n",
      "y 1\n",
      "t 2\n",
      "h 3\n",
      "o 4\n",
      "n 5\n"
     ]
    }
   ],
   "source": [
    "data='python'\n",
    "index=0\n",
    "while index<len(data):\n",
    "    print(data[index],index)\n",
    "    index+=1"
   ]
  },
  {
   "cell_type": "code",
   "execution_count": 7,
   "metadata": {},
   "outputs": [
    {
     "name": "stdout",
     "output_type": "stream",
     "text": [
      "I\n",
      "love\n",
      "data\n",
      "science!\n"
     ]
    }
   ],
   "source": [
    "data='I love data science!'\n",
    "data=data.split()\n",
    "index=0\n",
    "while index<len(data):\n",
    "    print(data[index])\n",
    "    index += 1"
   ]
  },
  {
   "cell_type": "code",
   "execution_count": 2,
   "metadata": {},
   "outputs": [
    {
     "name": "stdout",
     "output_type": "stream",
     "text": [
      "3 -- 0\n",
      "12 -- 1\n",
      "31 -- 2\n",
      "129 -- 3\n"
     ]
    }
   ],
   "source": [
    "n=[3,9,19,98]\n",
    "total=0\n",
    "index=0\n",
    "while index<len(n):\n",
    "    total=total+n[index]\n",
    "    print(total,'--',index)\n",
    "    index += 1"
   ]
  },
  {
   "cell_type": "markdown",
   "metadata": {},
   "source": [
    "# tuples"
   ]
  },
  {
   "cell_type": "code",
   "execution_count": 1,
   "metadata": {},
   "outputs": [
    {
     "data": {
      "text/plain": [
       "('Piyush', 'Daffodil', 'DOB', [3, 9, 98], True)"
      ]
     },
     "execution_count": 1,
     "metadata": {},
     "output_type": "execute_result"
    }
   ],
   "source": [
    "tup1=('Piyush','Daffodil','DOB',[3,9,98],True)\n",
    "tup1"
   ]
  },
  {
   "cell_type": "code",
   "execution_count": 3,
   "metadata": {},
   "outputs": [
    {
     "data": {
      "text/plain": [
       "'DOB'"
      ]
     },
     "execution_count": 3,
     "metadata": {},
     "output_type": "execute_result"
    }
   ],
   "source": [
    "tup1[2]"
   ]
  },
  {
   "cell_type": "code",
   "execution_count": 4,
   "metadata": {},
   "outputs": [
    {
     "data": {
      "text/plain": [
       "True"
      ]
     },
     "execution_count": 4,
     "metadata": {},
     "output_type": "execute_result"
    }
   ],
   "source": [
    "tup1[-1]"
   ]
  },
  {
   "cell_type": "code",
   "execution_count": 7,
   "metadata": {},
   "outputs": [
    {
     "data": {
      "text/plain": [
       "('DOB', [3, 9, 98], True)"
      ]
     },
     "execution_count": 7,
     "metadata": {},
     "output_type": "execute_result"
    }
   ],
   "source": [
    "tup1[2:5]"
   ]
  },
  {
   "cell_type": "code",
   "execution_count": 32,
   "metadata": {},
   "outputs": [
    {
     "data": {
      "text/plain": [
       "tuple"
      ]
     },
     "execution_count": 32,
     "metadata": {},
     "output_type": "execute_result"
    }
   ],
   "source": [
    "tup2=('Piyush Kanti Sutradhar',)\n",
    "type(tup2)"
   ]
  },
  {
   "cell_type": "code",
   "execution_count": 15,
   "metadata": {},
   "outputs": [
    {
     "data": {
      "text/plain": [
       "'K'"
      ]
     },
     "execution_count": 15,
     "metadata": {},
     "output_type": "execute_result"
    }
   ],
   "source": [
    "tup2[7]"
   ]
  },
  {
   "cell_type": "code",
   "execution_count": 19,
   "metadata": {},
   "outputs": [
    {
     "data": {
      "text/plain": [
       "list"
      ]
     },
     "execution_count": 19,
     "metadata": {},
     "output_type": "execute_result"
    }
   ],
   "source": [
    "tup3=list(tup2) # converted tuple to list\n",
    "type(tup3)"
   ]
  },
  {
   "cell_type": "code",
   "execution_count": 29,
   "metadata": {},
   "outputs": [
    {
     "name": "stdout",
     "output_type": "stream",
     "text": [
      "['P', 'i', 'y', 'u', 's', 'h', ' ', 'K', 'a', 'n', 't', 'i', ' ', 'S', 'u', 't', 'r', 'a', 'd', 'h', 'a', 'r', 'Name']"
     ]
    }
   ],
   "source": [
    "#tup3.append('Name')\n",
    "tup3.pop(-1)\n",
    "print(tup3, end=\"\")"
   ]
  },
  {
   "cell_type": "code",
   "execution_count": 34,
   "metadata": {},
   "outputs": [
    {
     "data": {
      "text/plain": [
       "('Piyush Kanti Sutradhar', 'Piyush', 'Daffodil', 'DOB', [3, 9, 98], True)"
      ]
     },
     "execution_count": 34,
     "metadata": {},
     "output_type": "execute_result"
    }
   ],
   "source": [
    "tup2+tup1 # can only add two tuples"
   ]
  },
  {
   "cell_type": "code",
   "execution_count": 36,
   "metadata": {},
   "outputs": [
    {
     "data": {
      "text/plain": [
       "('Piyush Kanti Sutradhar',\n",
       " 'Piyush Kanti Sutradhar',\n",
       " 'Piyush',\n",
       " 'Daffodil',\n",
       " 'DOB',\n",
       " [3, 9, 98],\n",
       " True,\n",
       " 'Piyush',\n",
       " 'Daffodil',\n",
       " 'DOB',\n",
       " [3, 9, 98],\n",
       " True)"
      ]
     },
     "execution_count": 36,
     "metadata": {},
     "output_type": "execute_result"
    }
   ],
   "source": [
    "tup2*2+tup1*2"
   ]
  },
  {
   "cell_type": "code",
   "execution_count": 45,
   "metadata": {},
   "outputs": [
    {
     "data": {
      "text/plain": [
       "['P',\n",
       " 'i',\n",
       " 'y',\n",
       " 'u',\n",
       " 's',\n",
       " 'h',\n",
       " ' ',\n",
       " 'K',\n",
       " 'a',\n",
       " 'n',\n",
       " 't',\n",
       " 'i',\n",
       " ' ',\n",
       " 'S',\n",
       " 'u',\n",
       " 't',\n",
       " 'r',\n",
       " 'a',\n",
       " 'd',\n",
       " 'h',\n",
       " 'a',\n",
       " 'r',\n",
       " 'Name']"
      ]
     },
     "execution_count": 45,
     "metadata": {},
     "output_type": "execute_result"
    }
   ],
   "source": [
    "tup3"
   ]
  },
  {
   "cell_type": "code",
   "execution_count": 40,
   "metadata": {},
   "outputs": [
    {
     "data": {
      "text/plain": [
       "3"
      ]
     },
     "execution_count": 40,
     "metadata": {},
     "output_type": "execute_result"
    }
   ],
   "source": [
    "tup3.count('a') # count the number of given data"
   ]
  },
  {
   "cell_type": "code",
   "execution_count": 41,
   "metadata": {},
   "outputs": [
    {
     "data": {
      "text/plain": [
       "8"
      ]
     },
     "execution_count": 41,
     "metadata": {},
     "output_type": "execute_result"
    }
   ],
   "source": [
    "tup3.index('a') # in which index the given data was first seen"
   ]
  },
  {
   "cell_type": "code",
   "execution_count": 47,
   "metadata": {},
   "outputs": [
    {
     "data": {
      "text/plain": [
       "(True, False)"
      ]
     },
     "execution_count": 47,
     "metadata": {},
     "output_type": "execute_result"
    }
   ],
   "source": [
    "#membership\n",
    "'Name' in tup3 , 'DOB' in tup3"
   ]
  },
  {
   "cell_type": "code",
   "execution_count": 51,
   "metadata": {},
   "outputs": [
    {
     "data": {
      "text/plain": [
       "98"
      ]
     },
     "execution_count": 51,
     "metadata": {},
     "output_type": "execute_result"
    }
   ],
   "source": [
    "tup1[-2][2] # first shows the tuple item then shows the item inside of the Item's inner element"
   ]
  },
  {
   "cell_type": "code",
   "execution_count": null,
   "metadata": {},
   "outputs": [],
   "source": [
    "# tuple is faster than list\n",
    "# does'nt support 'del'"
   ]
  }
 ],
 "metadata": {
  "kernelspec": {
   "display_name": "Python 3",
   "language": "python",
   "name": "python3"
  },
  "language_info": {
   "codemirror_mode": {
    "name": "ipython",
    "version": 3
   },
   "file_extension": ".py",
   "mimetype": "text/x-python",
   "name": "python",
   "nbconvert_exporter": "python",
   "pygments_lexer": "ipython3",
   "version": "3.8.5"
  }
 },
 "nbformat": 4,
 "nbformat_minor": 4
}
